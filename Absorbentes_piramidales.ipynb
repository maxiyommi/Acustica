{
 "cells": [
  {
   "cell_type": "markdown",
   "metadata": {},
   "source": [
    "# Coeficiente de reflexión por incidencia oblicua entre fluidos sobre superficies piramidales\n",
    "## (Siguiendo a Kinsler, Fundamentos de Acústica, pag. 184 en el cap. 6)"
   ]
  },
  {
   "cell_type": "markdown",
   "metadata": {},
   "source": [
    "En cada incidencia sobre la pared de la pirámide el ángulo de incidencia (respecto la normal) debe ser menor al ángulo critico dado por la relación:\n",
    "\n",
    "$$sen(\\theta_c) = \\frac{c_1}{c_2}$$\n",
    "\n",
    "En la ecuación anterior $c_1$ y $c_2$ son las velocidades de propagación de los dos medios considerados. En caso de que el ángulo sea superior tendremos reflexión total y no habrá atenuación correspondiente a la transmisión en ese punto. Por lo tanto\n",
    "\n",
    "$$\\theta_{imax} = \\theta_c$$\n",
    "\n",
    "Esto de alguna manera condiciona el ángulo máximo que puede tener la pirámide, ya que si suponemos que el transductor que emite se posiciona perpendicularmente sobre ella inciden con un ángulo 90°- $\\theta_i$ y el ángulo del extremo de la pirámide será el doble de este, o sea 2(90°- $\\theta_i$). Dado que en esta condición la trasmisión es prácticamente nula, lo conveniente es que la pirámide tenga un ángulo bastante más pequeño que este. ¿Cuánto más pequeño? Lo vemos analizando el coeficiente de reflexión.\n",
    "\n",
    "El coeficiente de reflexión $R$ para la amplitud en cada uno de los puntos en que se refleja la radiación está dado por:\n",
    "\n",
    "$$R=\\cfrac{r_2/r_1-cos(\\theta_t)/cos(\\theta_i)}{r_2/r_1+cos(\\theta_t)/cos(\\theta_i)}$$\n",
    "\n",
    "En la ecuación anterior $\\theta_t$ y $\\theta_i$ son respectivamente el ángulo de transmisión y el de incidencia, siendo $r_1$ y $r_2$ las impedancias ac´suticas especificas de cada uno de los medios:\n",
    "\n",
    "$$r_1=\\rho_1 c_1 \\text{, } r_2=\\rho_2 c_2 \\text{  donde } \\rho_1 \\text{ y } \\rho_2 \\text{  son densidades}$$\n",
    "\n",
    "Dado que necesitamos una relación entre los ángulos de incidencia y de transmisión, lo podemos hacer de la siguiente manera:\n",
    "\n",
    "$$ cos(\\theta_t = \\sqrt{1-sen^2(\\theta_t)}=\\sqrt{1-(c_2/c_1)^2sin^2(\\theta_i)}$$\n",
    "\n",
    "Reemplazando en la ecuación anterior obtenemos el coeficiente de reflexión en función de $\\theta_i$\n",
    "\n",
    "$$R=\\cfrac{r_2/r_1-\\sqrt{1-(c_2/c_1)^2sin^2(\\theta_i)}/cos(\\theta_i)}{r_2/r_1+\\sqrt{1-(c_2/c_1)^2sin^2(\\theta_i)}/cos(\\theta_i)}$$\n",
    "\n",
    "A continuación se presenta el codigo en Python para realizar dicho cálculo en función de la caracteristica de los medios de propagación:"
   ]
  },
  {
   "cell_type": "markdown",
   "metadata": {},
   "source": [
    "En primer lugar se cargan las librerias:"
   ]
  },
  {
   "cell_type": "code",
   "execution_count": 23,
   "metadata": {},
   "outputs": [],
   "source": [
    "%matplotlib inline\n",
    "\n",
    "import numpy as np\n",
    "import matplotlib.pyplot as plt"
   ]
  },
  {
   "cell_type": "markdown",
   "metadata": {},
   "source": [
    "Se define la función que realiza el cálculo:"
   ]
  },
  {
   "cell_type": "code",
   "execution_count": 24,
   "metadata": {
    "collapsed": true
   },
   "outputs": [],
   "source": [
    "def abs_piramidales (c1, rho1, c2, rho2, ang_pir):\n",
    "    \"\"\" Devuelve el coeficiente de reflexión de Rayleigh\"\"\"\n",
    "    \n",
    "    r1 = rho1 * c2\n",
    "    r2 = rho2 * c2\n",
    "\n",
    "    theta_c = 1 / np.sin(c1 / c2)\n",
    "    theta_i_max = (theta_c * 180) / np.pi\n",
    "    theta_i_perpendicular = 90 - ang_pir / 2\n",
    "    \n",
    "    theta_i = np.arange(0,theta_i_max) * np.pi / 180\n",
    "  \n",
    "    aux_r = r2 / r1\n",
    "    aux_c = c2 / c1\n",
    "    aux_theta_t = np.sqrt(np.absolute(1 - aux_c**2 * (np.sin(theta_i)**2)))\n",
    "    aux_i = aux_theta_t / np.cos(theta_i)\n",
    "    \n",
    "    R = abs((aux_r - aux_i) / (aux_r + aux_i))\n",
    "    \n",
    "    theta_i = theta_i * 180 / np.pi\n",
    "    \n",
    "    return theta_i, R, theta_i_max, theta_i_perpendicular"
   ]
  },
  {
   "cell_type": "markdown",
   "metadata": {},
   "source": [
    "Se definen los medios de propagación:"
   ]
  },
  {
   "cell_type": "code",
   "execution_count": 25,
   "metadata": {
    "collapsed": true
   },
   "outputs": [],
   "source": [
    "c1 = 1450         # velocidad de propagación de: AGUA a 15°C [m/s]\n",
    "rho1 = 999.19     # densidad del medio: AGUA [kg/m^3]\n",
    "\n",
    "c2 = 1500         # velocidad de propagación de: HAM A (Precision acoustics) [m/s]\n",
    "rho2 = 1110       # densidad del medio: HAM A [kg/m^3]\n",
    "\n",
    "ang_pir = 68      # ángulo de la piramide del absorbente\n",
    "\n",
    "theta_i, R, theta_i_max, theta_i_perpendicular = abs_piramidales(c1, rho1, c2, rho2, ang_pir)"
   ]
  },
  {
   "cell_type": "markdown",
   "metadata": {},
   "source": [
    "Por ultimo se presentan los resultados:"
   ]
  },
  {
   "cell_type": "code",
   "execution_count": 26,
   "metadata": {},
   "outputs": [
    {
     "data": {
      "image/png": "[encoded data removed]",
      "text/plain": [
       "<matplotlib.figure.Figure at 0x1fbdd6cfd30>"
      ]
     },
     "metadata": {},
     "output_type": "display_data"
    },
    {
     "name": "stdout",
     "output_type": "stream",
     "text": [
      "Angulo de la piramide: 68 °\n",
      "Angulo critico: 69.6184716011 °\n",
      "Angulo del transductor, respecto a la normal: 56.0 °\n"
     ]
    }
   ],
   "source": [
    "with plt.style.context('ggplot'):\n",
    "    plt.plot(theta_i, R, 'ro')\n",
    "    plt.xlabel(\"Angulo\")\n",
    "    plt.ylabel(\"R\")\n",
    "    plt.show()\n",
    "    \n",
    "print(\"Angulo de la piramide:\", ang_pir, \"°\" )\n",
    "print(\"Angulo critico:\", theta_i_max, \"°\" )\n",
    "print(\"Angulo del transductor, respecto a la normal:\", theta_i_perpendicular, \"°\")"
   ]
  },
  {
   "cell_type": "markdown",
   "metadata": {},
   "source": [
    "**Referencia**\n",
    "\n",
    "* Kinsler LE, Frey AB, Sanders AR, Kinsler JV. Fundamentos de acústica. 1992.\n",
    "\n",
    "**Colaboración**\n",
    "* Sergio N. Gwirc"
   ]
  },
  {
   "cell_type": "markdown",
   "metadata": {},
   "source": [
    "<a rel=\"license\" href=\"http://creativecommons.org/licenses/by/4.0/deed.es\"><img alt=\"Licencia Creative Commons\" style=\"border-width:0\" src=\"http://i.creativecommons.org/l/by/4.0/88x31.png\" /></a><br /><span xmlns:dct=\"http://purl.org/dc/terms/\" property=\"dct:title\">"
   ]
  }
 ],
 "metadata": {
  "kernelspec": {
   "display_name": "Python [default]",
   "language": "python",
   "name": "python3"
  },
  "language_info": {
   "codemirror_mode": {
    "name": "ipython",
    "version": 3
   },
   "file_extension": ".py",
   "mimetype": "text/x-python",
   "name": "python",
   "nbconvert_exporter": "python",
   "pygments_lexer": "ipython3",
   "version": "3.5.3"
  }
 },
 "nbformat": 4,
 "nbformat_minor": 2
}
